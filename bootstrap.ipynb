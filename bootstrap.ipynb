{
 "cells": [
  {
   "cell_type": "markdown",
   "metadata": {},
   "source": [
    "# Assignment 2 COMST\n",
    "Ayse Arslan, Kristian van Kuijk, Carlos Soto Garcia-Delgado, Philip Mühlenfeld, and Ali Alsaeedi"
   ]
  },
  {
   "cell_type": "code",
   "execution_count": 44,
   "metadata": {},
   "outputs": [
    {
     "data": {
      "image/png": "[encoded data removed]",
      "text/plain": [
       "<Figure size 432x288 with 1 Axes>"
      ]
     },
     "metadata": {
      "needs_background": "light"
     },
     "output_type": "display_data"
    }
   ],
   "source": [
    "import pandas as pd\n",
    "import matplotlib.pyplot as plt\n",
    "import numpy as np\n",
    "import warnings\n",
    "warnings.filterwarnings(\"ignore\")\n",
    "\n",
    "# Load data\n",
    "law = pd.read_csv('law.csv')\n",
    "\n",
    "# Add observation column\n",
    "law['observation'] = range(1, len(law) + 1)\n",
    "\n",
    "# Plot data\n",
    "fig, ax = plt.subplots()\n",
    "ax.scatter(x=law['LSAT'], y=law['GPA'])\n",
    "for i, row in law.iterrows():\n",
    "    ax.text(row['LSAT'], row['GPA'], row['observation'], horizontalalignment='left', verticalalignment='bottom', fontsize=8)\n",
    "plt.show()"
   ]
  },
  {
   "cell_type": "markdown",
   "metadata": {},
   "source": [
    "#####  The nonparametric bootstrap distribution of the Pearson’s correlation coefficient between LSAT and GPA using B = 40000 bootstrap samples (lab exercise)"
   ]
  },
  {
   "cell_type": "code",
   "execution_count": 31,
   "metadata": {},
   "outputs": [
    {
     "name": "stdout",
     "output_type": "stream",
     "text": [
      "Observed correlation coefficient: 0.776\n",
      "Bootstrap standard error: 0.134\n",
      "95% Confidence interval: (0.459, 0.962)\n"
     ]
    },
    {
     "data": {
      "image/png": "[encoded data removed]",
      "text/plain": [
       "<Figure size 432x288 with 1 Axes>"
      ]
     },
     "metadata": {
      "needs_background": "light"
     },
     "output_type": "display_data"
    },
    {
     "name": "stdout",
     "output_type": "stream",
     "text": [
      "Wall time: 1min 10s\n"
     ]
    }
   ],
   "source": [
    "%%time\n",
    "# Compute the observed correlation coefficient (correlation between LSAT and GPA)\n",
    "obs_corr = law['LSAT'].corr(law['GPA'])\n",
    "\n",
    "# Set the number of bootstrap samples\n",
    "B = 40000\n",
    "\n",
    "# Create an empty array to store the bootstrap samples\n",
    "bootstrap_corr = np.zeros(B)\n",
    "\n",
    "# Generate B bootstrap samples\n",
    "for i in range(B):\n",
    "    # Randomly sample/select with replacement from the data\n",
    "    bootstrap_sample = law.sample(n=len(law), replace=True)\n",
    "    # Compute the correlation coefficient of the bootstrap sample (like we did in the first lines)\n",
    "    bootstrap_corr[i] = bootstrap_sample['LSAT'].corr(bootstrap_sample['GPA'])\n",
    "\n",
    "# Compute the bootstrap standard error and 95% confidence interval (of the array filled with B correlation coefficients)\n",
    "se_boot = np.std(bootstrap_corr)\n",
    "lower_ci_boot = np.percentile(bootstrap_corr, 2.5)\n",
    "upper_ci_boot = np.percentile(bootstrap_corr, 97.5)\n",
    "\n",
    "# Print the results\n",
    "print(\"Observed correlation coefficient: {:.3f}\".format(obs_corr))\n",
    "print(\"Bootstrap standard error: {:.3f}\".format(se_boot))\n",
    "print(\"95% Confidence interval: ({:.3f}, {:.3f})\".format(lower_ci_boot, upper_ci_boot))\n",
    "\n",
    "# Plot results\n",
    "plt.hist(bootstrap_corr, bins=40)\n",
    "plt.axvline(x=obs_corr, color='r', linewidth=1.5)\n",
    "plt.show()"
   ]
  },
  {
   "cell_type": "markdown",
   "metadata": {},
   "source": [
    "## 1) Recompute using the complete enumaration bootstrap"
   ]
  },
  {
   "cell_type": "code",
   "execution_count": 61,
   "metadata": {},
   "outputs": [
    {
     "name": "stdout",
     "output_type": "stream",
     "text": [
      "32768\n",
      "32768\n",
      "Observed correlation coefficient: 0.776\n",
      "Bootstrap standard error: 0.134\n",
      "95% Confidence interval: (0.456, 0.962)\n"
     ]
    },
    {
     "data": {
      "image/png": "[encoded data removed]",
      "text/plain": [
       "<Figure size 432x288 with 1 Axes>"
      ]
     },
     "metadata": {
      "needs_background": "light"
     },
     "output_type": "display_data"
    },
    {
     "name": "stdout",
     "output_type": "stream",
     "text": [
      "Wall time: 1min 37s\n"
     ]
    }
   ],
   "source": [
    "%%time\n",
    "# Generate all possible bootstrap samples (32768 in total because it's 2^15)\n",
    "bootstrap_samples = [law.sample(n=len(law), replace=True) for i in range(2 ** len(law))]\n",
    "print(len(bootstrap_samples))\n",
    "\n",
    "# Compute the correlation coefficient for each bootstrap sample\n",
    "bootstrap_corr = [sample['LSAT'].corr(sample['GPA']) for sample in bootstrap_samples]\n",
    "print(len(bootstrap_corr))\n",
    "\n",
    "# Compute the bootstrap standard error and 95% confidence interval\n",
    "se_boot = np.std(bootstrap_corr)\n",
    "lower_ci_boot = np.percentile(bootstrap_corr, 2.5)\n",
    "upper_ci_boot = np.percentile(bootstrap_corr, 97.5)\n",
    "\n",
    "# Print the results\n",
    "print(\"Observed correlation coefficient: {:.3f}\".format(obs_corr))\n",
    "print(\"Bootstrap standard error: {:.3f}\".format(se_boot))\n",
    "print(\"95% Confidence interval: ({:.3f}, {:.3f})\".format(lower_ci_boot, upper_ci_boot))\n",
    "\n",
    "# Plot results\n",
    "import matplotlib.pyplot as plt\n",
    "plt.hist(bootstrap_corr, bins=40)\n",
    "plt.axvline(x=obs_corr, color='r', linewidth=1.5)\n",
    "plt.show()"
   ]
  },
  {
   "cell_type": "markdown",
   "metadata": {},
   "source": [
    "As you can see it outputs the same results for the observed correlation coefficient, due to the law of large numbers. And the values for the standard error and the confidence interval are also almost the same (approaching), due to the law of large number. "
   ]
  },
  {
   "cell_type": "markdown",
   "metadata": {},
   "source": [
    "## 2) Use Gray codes for compositions to speedup computations"
   ]
  },
  {
   "cell_type": "markdown",
   "metadata": {},
   "source": [
    "## 3)  How much speedup can you get by using Gray codes? Show either experimentally or theoretically."
   ]
  },
  {
   "cell_type": "markdown",
   "metadata": {},
   "source": [
    "## 4) Which observation(s) do you need to remove from the sample to make the Monte Carlo and complete enumeration bootstrap look more similar?"
   ]
  },
  {
   "cell_type": "code",
   "execution_count": 60,
   "metadata": {},
   "outputs": [
    {
     "data": {
      "text/html": [
       "<div>\n",
       "<style scoped>\n",
       "    .dataframe tbody tr th:only-of-type {\n",
       "        vertical-align: middle;\n",
       "    }\n",
       "\n",
       "    .dataframe tbody tr th {\n",
       "        vertical-align: top;\n",
       "    }\n",
       "\n",
       "    .dataframe thead th {\n",
       "        text-align: right;\n",
       "    }\n",
       "</style>\n",
       "<table border=\"1\" class=\"dataframe\">\n",
       "  <thead>\n",
       "    <tr style=\"text-align: right;\">\n",
       "      <th></th>\n",
       "      <th>LSAT</th>\n",
       "      <th>GPA</th>\n",
       "    </tr>\n",
       "  </thead>\n",
       "  <tbody>\n",
       "    <tr>\n",
       "      <th>0</th>\n",
       "      <td>576</td>\n",
       "      <td>3.39</td>\n",
       "    </tr>\n",
       "  </tbody>\n",
       "</table>\n",
       "</div>"
      ],
      "text/plain": [
       "   LSAT   GPA\n",
       "0   576  3.39"
      ]
     },
     "execution_count": 60,
     "metadata": {},
     "output_type": "execute_result"
    }
   ],
   "source": [
    "import statsmodels.api as sm\n",
    "\n",
    "# linear regression\n",
    "X = sm.add_constant(law['LSAT'])\n",
    "model = sm.OLS(law['GPA'], X).fit()\n",
    "\n",
    "# Cook's distance\n",
    "influence = model.get_influence()\n",
    "cd = influence.cooks_distance[0]\n",
    "\n",
    "# find observations with high Cook's distance\n",
    "threshold = 4/len(law)\n",
    "outliers = law[cd > threshold]\n",
    "outliers"
   ]
  },
  {
   "cell_type": "code",
   "execution_count": null,
   "metadata": {},
   "outputs": [],
   "source": []
  },
  {
   "cell_type": "markdown",
   "metadata": {},
   "source": [
    "## 5) Explain why you obtain difference results for Monte Carlo and complete enumeration bootstrap."
   ]
  },
  {
   "cell_type": "code",
   "execution_count": null,
   "metadata": {},
   "outputs": [],
   "source": []
  }
 ],
 "metadata": {
  "kernelspec": {
   "display_name": "Python 3 (ipykernel)",
   "language": "python",
   "name": "python3"
  },
  "language_info": {
   "codemirror_mode": {
    "name": "ipython",
    "version": 3
   },
   "file_extension": ".py",
   "mimetype": "text/x-python",
   "name": "python",
   "nbconvert_exporter": "python",
   "pygments_lexer": "ipython3",
   "version": "3.9.7"
  }
 },
 "nbformat": 4,
 "nbformat_minor": 2
}
