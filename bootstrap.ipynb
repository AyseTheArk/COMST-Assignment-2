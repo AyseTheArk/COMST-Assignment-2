{
 "cells": [
  {
   "cell_type": "markdown",
   "metadata": {},
   "source": [
    "# Assignment 2 COMST\n",
    "Ayse Arslan, Kristian van Kuijk, Carlos Soto Garcia-Delgado, Philip Mühlenfeld, and Ali Alsaeedi"
   ]
  },
  {
   "cell_type": "code",
   "execution_count": 93,
   "metadata": {},
   "outputs": [
    {
     "data": {
      "image/png": "[encoded data removed]",
      "text/plain": [
       "<Figure size 432x288 with 1 Axes>"
      ]
     },
     "metadata": {
      "needs_background": "light"
     },
     "output_type": "display_data"
    }
   ],
   "source": [
    "import pandas as pd\n",
    "import matplotlib.pyplot as plt\n",
    "import numpy as np\n",
    "import warnings\n",
    "warnings.filterwarnings(\"ignore\")\n",
    "\n",
    "# Load data\n",
    "law = pd.read_csv('law.csv')\n",
    "\n",
    "# Add observation column\n",
    "law['observation'] = range(1, len(law) + 1)\n",
    "\n",
    "# Plot data\n",
    "fig, ax = plt.subplots()\n",
    "ax.scatter(x=law['LSAT'], y=law['GPA'])\n",
    "for i, row in law.iterrows():\n",
    "    ax.text(row['LSAT'], row['GPA'], row['observation'], horizontalalignment='left', verticalalignment='bottom', fontsize=8)\n",
    "plt.show()"
   ]
  },
  {
   "cell_type": "markdown",
   "metadata": {},
   "source": [
    "#####  The nonparametric bootstrap distribution of the Pearson’s correlation coefficient between LSAT and GPA using B = 40000 bootstrap samples (lab exercise)"
   ]
  },
  {
   "cell_type": "code",
   "execution_count": 31,
   "metadata": {},
   "outputs": [
    {
     "name": "stdout",
     "output_type": "stream",
     "text": [
      "Observed correlation coefficient: 0.776\n",
      "Bootstrap standard error: 0.134\n",
      "95% Confidence interval: (0.459, 0.962)\n"
     ]
    },
    {
     "data": {
      "image/png": "[encoded data removed]",
      "text/plain": [
       "<Figure size 432x288 with 1 Axes>"
      ]
     },
     "metadata": {
      "needs_background": "light"
     },
     "output_type": "display_data"
    },
    {
     "name": "stdout",
     "output_type": "stream",
     "text": [
      "Wall time: 1min 10s\n"
     ]
    }
   ],
   "source": [
    "%%time\n",
    "# Compute the observed correlation coefficient (correlation between LSAT and GPA)\n",
    "obs_corr = law['LSAT'].corr(law['GPA'])\n",
    "\n",
    "# Set the number of bootstrap samples\n",
    "B = 40000\n",
    "\n",
    "# Create an empty array to store the bootstrap samples\n",
    "bootstrap_corr = np.zeros(B)\n",
    "\n",
    "# Generate B bootstrap samples\n",
    "for i in range(B):\n",
    "    # Randomly sample/select with replacement from the data\n",
    "    bootstrap_sample = law.sample(n=len(law), replace=True)\n",
    "    # Compute the correlation coefficient of the bootstrap sample (like we did in the first lines)\n",
    "    bootstrap_corr[i] = bootstrap_sample['LSAT'].corr(bootstrap_sample['GPA'])\n",
    "\n",
    "# Compute the bootstrap standard error and 95% confidence interval (of the array filled with B correlation coefficients)\n",
    "se_boot = np.std(bootstrap_corr)\n",
    "lower_ci_boot = np.percentile(bootstrap_corr, 2.5)\n",
    "upper_ci_boot = np.percentile(bootstrap_corr, 97.5)\n",
    "\n",
    "# Print the results\n",
    "print(\"Observed correlation coefficient: {:.3f}\".format(obs_corr))\n",
    "print(\"Bootstrap standard error: {:.3f}\".format(se_boot))\n",
    "print(\"95% Confidence interval: ({:.3f}, {:.3f})\".format(lower_ci_boot, upper_ci_boot))\n",
    "\n",
    "# Plot results\n",
    "plt.hist(bootstrap_corr, bins=40)\n",
    "plt.axvline(x=obs_corr, color='r', linewidth=1.5)\n",
    "plt.show()"
   ]
  },
  {
   "cell_type": "markdown",
   "metadata": {},
   "source": [
    "## 1) Recompute using the complete enumaration bootstrap"
   ]
  },
  {
   "cell_type": "markdown",
   "metadata": {},
   "source": [
    "We will use a subset of the data since 15 data points means 77558760 samples, which is computationally too expensive. Therefore, we only use the first 10 data points."
   ]
  },
  {
   "cell_type": "markdown",
   "metadata": {},
   "source": [
    "###### Compute the samples"
   ]
  },
  {
   "cell_type": "code",
   "execution_count": 94,
   "metadata": {},
   "outputs": [
    {
     "name": "stdout",
     "output_type": "stream",
     "text": [
      "92378\n",
      "Wall time: 25 s\n"
     ]
    }
   ],
   "source": [
    "%%time\n",
    "import numpy as np\n",
    "import pandas as pd\n",
    "from itertools import combinations_with_replacement\n",
    "\n",
    "new_law = law[:10]\n",
    "n = new_law.shape[0]\n",
    "\n",
    "# All possible combinations\n",
    "combs = combinations_with_replacement(range(n), n)\n",
    "\n",
    "samples = []\n",
    "for comb in combs:\n",
    "    bootstrap_sample = new_law.iloc[list(comb), :]\n",
    "    samples.append(bootstrap_sample)\n",
    "\n",
    "print(len(samples))"
   ]
  },
  {
   "cell_type": "markdown",
   "metadata": {},
   "source": [
    "###### Compute the correlation coefficients and plot"
   ]
  },
  {
   "cell_type": "code",
   "execution_count": 95,
   "metadata": {},
   "outputs": [
    {
     "name": "stdout",
     "output_type": "stream",
     "text": [
      "92378\n",
      "92368\n",
      "Observed correlation coefficient: 0.813\n",
      "Bootstrap standard error: 0.228\n",
      "95% Confidence interval: (0.243, 0.999)\n"
     ]
    },
    {
     "data": {
      "image/png": "[encoded data removed]",
      "text/plain": [
       "<Figure size 432x288 with 1 Axes>"
      ]
     },
     "metadata": {
      "needs_background": "light"
     },
     "output_type": "display_data"
    },
    {
     "name": "stdout",
     "output_type": "stream",
     "text": [
      "Wall time: 2min 44s\n"
     ]
    }
   ],
   "source": [
    "%%time\n",
    "\n",
    "# Compute the Pearson correlation between LSAT and GPA for each bootstrap sample\n",
    "corrs = [sample['LSAT'].corr(sample['GPA']) for sample in samples]\n",
    "print(len(corrs))\n",
    "\n",
    "obs_corr = new_law['LSAT'].corr(new_law['GPA'])\n",
    "\n",
    "# Filter out NaN correlation coefficients since it is a smaller dataset and there may \n",
    "# have been fewer valid pairs of LSAT and GPA scores that could be used to calculate \n",
    "# the correlation coefficient, resulting in more NaN values\n",
    "corrs = [corr for corr in corrs if not np.isnan(corr)]\n",
    "print(len(corrs))\n",
    "\n",
    "# Same code\n",
    "se_boot = np.std(corrs)\n",
    "lower_ci_boot = np.percentile(corrs, 2.5)\n",
    "upper_ci_boot = np.percentile(corrs, 97.5)\n",
    "\n",
    "print(\"Observed correlation coefficient: {:.3f}\".format(obs_corr))\n",
    "print(\"Bootstrap standard error: {:.3f}\".format(se_boot))\n",
    "print(\"95% Confidence interval: ({:.3f}, {:.3f})\".format(lower_ci_boot, upper_ci_boot))\n",
    "\n",
    "import matplotlib.pyplot as plt\n",
    "plt.hist(bootstrap_corr, bins=40)\n",
    "plt.axvline(x=obs_corr, color='r', linewidth=1.5)\n",
    "plt.show()"
   ]
  },
  {
   "cell_type": "markdown",
   "metadata": {},
   "source": [
    "Standard error increased because the dataset is of size 10 now and not 15. There is more variation in the resulting correlation coefficients as it provides less info. Also with the subset of the data, the analysis can have more outliers. "
   ]
  },
  {
   "cell_type": "markdown",
   "metadata": {},
   "source": [
    "## 2) Use Gray codes for compositions to speedup computations"
   ]
  },
  {
   "cell_type": "markdown",
   "metadata": {},
   "source": [
    "## 3)  How much speedup can you get by using Gray codes? Show either experimentally or theoretically."
   ]
  },
  {
   "cell_type": "markdown",
   "metadata": {},
   "source": [
    "## 4) Which observation(s) do you need to remove from the sample to make the Monte Carlo and complete enumeration bootstrap look more similar?"
   ]
  },
  {
   "cell_type": "code",
   "execution_count": 60,
   "metadata": {},
   "outputs": [
    {
     "data": {
      "text/html": [
       "<div>\n",
       "<style scoped>\n",
       "    .dataframe tbody tr th:only-of-type {\n",
       "        vertical-align: middle;\n",
       "    }\n",
       "\n",
       "    .dataframe tbody tr th {\n",
       "        vertical-align: top;\n",
       "    }\n",
       "\n",
       "    .dataframe thead th {\n",
       "        text-align: right;\n",
       "    }\n",
       "</style>\n",
       "<table border=\"1\" class=\"dataframe\">\n",
       "  <thead>\n",
       "    <tr style=\"text-align: right;\">\n",
       "      <th></th>\n",
       "      <th>LSAT</th>\n",
       "      <th>GPA</th>\n",
       "    </tr>\n",
       "  </thead>\n",
       "  <tbody>\n",
       "    <tr>\n",
       "      <th>0</th>\n",
       "      <td>576</td>\n",
       "      <td>3.39</td>\n",
       "    </tr>\n",
       "  </tbody>\n",
       "</table>\n",
       "</div>"
      ],
      "text/plain": [
       "   LSAT   GPA\n",
       "0   576  3.39"
      ]
     },
     "execution_count": 60,
     "metadata": {},
     "output_type": "execute_result"
    }
   ],
   "source": [
    "import statsmodels.api as sm\n",
    "\n",
    "# linear regression\n",
    "X = sm.add_constant(law['LSAT'])\n",
    "model = sm.OLS(law['GPA'], X).fit()\n",
    "\n",
    "# Cook's distance\n",
    "influence = model.get_influence()\n",
    "cd = influence.cooks_distance[0]\n",
    "\n",
    "threshold = 4/len(law)\n",
    "outliers = law[cd > threshold]\n",
    "outliers"
   ]
  },
  {
   "cell_type": "code",
   "execution_count": null,
   "metadata": {},
   "outputs": [],
   "source": []
  },
  {
   "cell_type": "markdown",
   "metadata": {},
   "source": [
    "## 5) Explain why you obtain difference results for Monte Carlo and complete enumeration bootstrap."
   ]
  },
  {
   "cell_type": "code",
   "execution_count": null,
   "metadata": {},
   "outputs": [],
   "source": []
  }
 ],
 "metadata": {
  "kernelspec": {
   "display_name": "Python 3 (ipykernel)",
   "language": "python",
   "name": "python3"
  },
  "language_info": {
   "codemirror_mode": {
    "name": "ipython",
    "version": 3
   },
   "file_extension": ".py",
   "mimetype": "text/x-python",
   "name": "python",
   "nbconvert_exporter": "python",
   "pygments_lexer": "ipython3",
   "version": "3.9.7"
  }
 },
 "nbformat": 4,
 "nbformat_minor": 2
}
