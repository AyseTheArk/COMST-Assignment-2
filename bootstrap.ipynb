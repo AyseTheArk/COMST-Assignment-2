{
 "cells": [
  {
   "cell_type": "code",
   "execution_count": 12,
   "metadata": {},
   "outputs": [
    {
     "data": {
      "image/png": "[encoded data removed]",
      "text/plain": [
       "<Figure size 432x288 with 1 Axes>"
      ]
     },
     "metadata": {
      "needs_background": "light"
     },
     "output_type": "display_data"
    }
   ],
   "source": [
    "import pandas as pd\n",
    "\n",
    "# Load the data\n",
    "law = pd.read_csv('law.csv')\n",
    "# Plot the data using matplotlib\n",
    "import matplotlib.pyplot as plt\n",
    "\n",
    "fig, ax = plt.subplots()\n",
    "ax.scatter(law['LSAT'], law['GPA'])\n",
    "for i, txt in enumerate(law['observation']):\n",
    "    ax.annotate(txt, (law['LSAT'][i], law['GPA'][i]), ha='center', va='center')\n",
    "ax.set_xlabel('LSAT')\n",
    "ax.set_ylabel('GPA')\n",
    "plt.show()\n"
   ]
  },
  {
   "attachments": {},
   "cell_type": "markdown",
   "metadata": {},
   "source": [
    "#####  The nonparametric bootstrap distribution of the Pearson’s correlation coefficient between LSAT and GPA using B = 40000 bootstrap samples (lab exercise)"
   ]
  },
  {
   "cell_type": "code",
   "execution_count": 10,
   "metadata": {},
   "outputs": [
    {
     "name": "stdout",
     "output_type": "stream",
     "text": [
      "Observed correlation coefficient: 0.776\n",
      "Bootstrap standard error: 0.133\n",
      "95% Confidence interval: (0.460, 0.962)\n"
     ]
    }
   ],
   "source": [
    "import numpy as np\n",
    "import pandas as pd\n",
    "\n",
    "# Load the data\n",
    "law = pd.read_csv('law.csv')\n",
    "\n",
    "# Compute the observed correlation coefficient\n",
    "obs_corr = law['LSAT'].corr(law['GPA'])dd\n",
    "\n",
    "# Set the number of bootstrap samples\n",
    "B = 40000\n",
    "\n",
    "# Create an empty array to store the bootstrap samples\n",
    "bootstrap_corr = np.zeros(B)\n",
    "\n",
    "# Generate B bootstrap samples\n",
    "for i in range(B):\n",
    "    # Sample with replacement from the data\n",
    "    bootstrap_sample = law.sample(n=len(law), replace=True)\n",
    "    # Compute the correlation coefficient of the bootstrap sample\n",
    "    bootstrap_corr[i] = bootstrap_sample['LSAT'].corr(bootstrap_sample['GPA'])\n",
    "\n",
    "# Compute the bootstrap standard error and 95% confidence interval\n",
    "se_boot = np.std(bootstrap_corr)\n",
    "lower_ci_boot = np.percentile(bootstrap_corr, 2.5)\n",
    "upper_ci_boot = np.percentile(bootstrap_corr, 97.5)\n",
    "\n",
    "# Print the results\n",
    "print(\"Observed correlation coefficient: {:.3f}\".format(obs_corr))\n",
    "print(\"Bootstrap standard error: {:.3f}\".format(se_boot))\n",
    "print(\"95% Confidence interval: ({:.3f}, {:.3f})\".format(lower_ci_boot, upper_ci_boot))\n"
   ]
  },
  {
   "cell_type": "code",
   "execution_count": 13,
   "metadata": {},
   "outputs": [
    {
     "data": {
      "image/png": "[encoded data removed]",
      "text/plain": [
       "<Figure size 432x288 with 1 Axes>"
      ]
     },
     "metadata": {
      "needs_background": "light"
     },
     "output_type": "display_data"
    }
   ],
   "source": [
    "import pandas as pd\n",
    "import numpy as np\n",
    "import matplotlib.pyplot as plt\n",
    "from scipy.stats import pearsonr\n",
    "\n",
    "# Load data into pandas DataFrame\n",
    "law = pd.read_csv(\"law.csv\")\n",
    "\n",
    "# Calculate Pearson's correlation coefficient\n",
    "theta_hat = np.corrcoef(law['LSAT'], law['GPA'])[0, 1]\n",
    "\n",
    "# Define bootstrap function\n",
    "def boot():\n",
    "    n = len(law)\n",
    "    ind = np.random.choice(n, n, replace=True)\n",
    "    return np.corrcoef(law.iloc[ind]['LSAT'], law.iloc[ind]['GPA'])[0, 1]\n",
    "\n",
    "# Run bootstrap\n",
    "B = 40000\n",
    "theta_star = np.array([boot() for i in range(B)])\n",
    "\n",
    "# Plot results\n",
    "plt.hist(theta_star, bins=40)\n",
    "plt.axvline(x=theta_hat, color='r', linewidth=1.5)\n",
    "plt.show()\n"
   ]
  },
  {
   "cell_type": "code",
   "execution_count": null,
   "metadata": {},
   "outputs": [],
   "source": []
  }
 ],
 "metadata": {
  "kernelspec": {
   "display_name": "base",
   "language": "python",
   "name": "python3"
  },
  "language_info": {
   "codemirror_mode": {
    "name": "ipython",
    "version": 3
   },
   "file_extension": ".py",
   "mimetype": "text/x-python",
   "name": "python",
   "nbconvert_exporter": "python",
   "pygments_lexer": "ipython3",
   "version": "3.9.7"
  },
  "orig_nbformat": 4
 },
 "nbformat": 4,
 "nbformat_minor": 2
}
