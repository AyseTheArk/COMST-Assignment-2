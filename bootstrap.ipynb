{
 "cells": [
  {
   "cell_type": "markdown",
   "metadata": {},
   "source": [
    "# Assignment 2 COMST\n",
    "Ayse Arslan, Kristian van Kuijk, Carlos Soto Garcia-Delgado, Philip Mühlenfeld, and Ali Alsaeedi"
   ]
  },
  {
   "cell_type": "code",
   "execution_count": 1,
   "metadata": {},
   "outputs": [
    {
     "data": {
      "image/png": "[encoded data removed]",
      "text/plain": [
       "<Figure size 432x288 with 1 Axes>"
      ]
     },
     "metadata": {
      "needs_background": "light"
     },
     "output_type": "display_data"
    }
   ],
   "source": [
    "import pandas as pd\n",
    "import matplotlib.pyplot as plt\n",
    "import numpy as np\n",
    "import warnings\n",
    "warnings.filterwarnings(\"ignore\")\n",
    "\n",
    "# Load data\n",
    "law = pd.read_csv('law.csv')\n",
    "\n",
    "# Add observation column\n",
    "law['observation'] = range(1, len(law) + 1)\n",
    "\n",
    "# Plot data\n",
    "fig, ax = plt.subplots()\n",
    "ax.scatter(x=law['LSAT'], y=law['GPA'])\n",
    "for i, row in law.iterrows():\n",
    "    ax.text(row['LSAT'], row['GPA'], row['observation'], horizontalalignment='left', verticalalignment='bottom', fontsize=8)\n",
    "plt.show()"
   ]
  },
  {
   "cell_type": "markdown",
   "metadata": {},
   "source": [
    "#####  The nonparametric bootstrap distribution of the Pearson’s correlation coefficient between LSAT and GPA using B = 40000 bootstrap samples (lab exercise)"
   ]
  },
  {
   "cell_type": "code",
   "execution_count": 2,
   "metadata": {},
   "outputs": [
    {
     "name": "stdout",
     "output_type": "stream",
     "text": [
      "Observed correlation coefficient: 0.776\n",
      "Bootstrap standard error: 0.134\n",
      "95% Confidence interval: (0.458, 0.961)\n"
     ]
    },
    {
     "data": {
      "image/png": "[encoded data removed]",
      "text/plain": [
       "<Figure size 432x288 with 1 Axes>"
      ]
     },
     "metadata": {
      "needs_background": "light"
     },
     "output_type": "display_data"
    },
    {
     "name": "stdout",
     "output_type": "stream",
     "text": [
      "Wall time: 26.2 s\n"
     ]
    }
   ],
   "source": [
    "%%time\n",
    "# Compute the observed correlation coefficient (correlation between LSAT and GPA)\n",
    "obs_corr = law['LSAT'].corr(law['GPA'])\n",
    "\n",
    "# Set the number of bootstrap samples\n",
    "B = 40000\n",
    "\n",
    "# Create an empty array to store the bootstrap samples\n",
    "bootstrap_corr = np.zeros(B)\n",
    "\n",
    "# Generate B bootstrap samples\n",
    "for i in range(B):\n",
    "    # Randomly sample/select with replacement from the data\n",
    "    bootstrap_sample = law.sample(n=len(law), replace=True)\n",
    "    # Compute the correlation coefficient of the bootstrap sample (like we did in the first lines)\n",
    "    bootstrap_corr[i] = bootstrap_sample['LSAT'].corr(bootstrap_sample['GPA'])\n",
    "\n",
    "# Compute the bootstrap standard error and 95% confidence interval (of the array filled with B correlation coefficients)\n",
    "se_boot = np.std(bootstrap_corr)\n",
    "lower_ci_boot = np.percentile(bootstrap_corr, 2.5)\n",
    "upper_ci_boot = np.percentile(bootstrap_corr, 97.5)\n",
    "\n",
    "# Print the results\n",
    "print(\"Observed correlation coefficient: \",obs_corr)\n",
    "print(\"Bootstrap standard error: \",se_boot)\n",
    "print(\"95% Confidence interval: (\",lower_ci_boot,\", \" upper_ci_boot,\")\")\n",
    "\n",
    "# Plot results\n",
    "plt.hist(bootstrap_corr, bins=40)\n",
    "plt.axvline(x=obs_corr, color='r', linewidth=1.5)\n",
    "plt.show()"
   ]
  },
  {
   "cell_type": "markdown",
   "metadata": {},
   "source": [
    "## 1) Recompute using the complete enumaration bootstrap"
   ]
  },
  {
   "cell_type": "markdown",
   "metadata": {},
   "source": [
    "We will use a subset of the data since 15 data points means 77558760 samples, which is computationally too expensive. Therefore, we only use the first 10 data points."
   ]
  },
  {
   "cell_type": "markdown",
   "metadata": {},
   "source": [
    "###### Compute the samples"
   ]
  },
  {
   "cell_type": "code",
   "execution_count": 4,
   "metadata": {},
   "outputs": [
    {
     "name": "stdout",
     "output_type": "stream",
     "text": [
      "92378\n",
      "Wall time: 29.3 s\n"
     ]
    }
   ],
   "source": [
    "%%time\n",
    "import numpy as np\n",
    "import pandas as pd\n",
    "from itertools import combinations_with_replacement\n",
    "\n",
    "new_law = law[:10]\n",
    "\n",
    "# All possible combinations\n",
    "combs = combinations_with_replacement(range(len(new_law)), len(new_law))\n",
    "\n",
    "samples = []\n",
    "for comb in combs:\n",
    "    bootstrap_sample = new_law.iloc[list(comb), :]\n",
    "    samples.append(bootstrap_sample)\n",
    "\n",
    "print(len(samples))"
   ]
  },
  {
   "cell_type": "markdown",
   "metadata": {},
   "source": [
    "###### Compute the correlation coefficients and plot"
   ]
  },
  {
   "cell_type": "code",
   "execution_count": 6,
   "metadata": {},
   "outputs": [
    {
     "name": "stdout",
     "output_type": "stream",
     "text": [
      "92378\n",
      "92368\n",
      "Observed correlation coefficient: 0.813\n",
      "Bootstrap standard error: 0.228\n",
      "95% Confidence interval: (0.243, 0.999)\n"
     ]
    },
    {
     "data": {
      "image/png": "[encoded data removed]",
      "text/plain": [
       "<Figure size 432x288 with 1 Axes>"
      ]
     },
     "metadata": {
      "needs_background": "light"
     },
     "output_type": "display_data"
    },
    {
     "name": "stdout",
     "output_type": "stream",
     "text": [
      "Wall time: 24.2 s\n"
     ]
    }
   ],
   "source": [
    "%%time\n",
    "\n",
    "# Compute the Pearson correlation between LSAT and GPA for each bootstrap sample\n",
    "corrs = [sample['LSAT'].corr(sample['GPA']) for sample in samples]\n",
    "print(len(corrs))\n",
    "\n",
    "obs_corr = new_law['LSAT'].corr(new_law['GPA'])\n",
    "\n",
    "# Filter out NaN correlation coefficients since it is a smaller dataset and there may \n",
    "# have been fewer valid pairs of LSAT and GPA scores that could be used to calculate \n",
    "# the correlation coefficient, resulting in more NaN values\n",
    "corrs = [corr for corr in corrs if not np.isnan(corr)]\n",
    "print(len(corrs))\n",
    "\n",
    "# Same code\n",
    "se_boot = np.std(corrs)\n",
    "lower_ci_boot = np.percentile(corrs, 2.5)\n",
    "upper_ci_boot = np.percentile(corrs, 97.5)\n",
    "\n",
    "print(\"Observed correlation coefficient: \",obs_corr)\n",
    "print(\"Bootstrap standard error: \",se_boot)\n",
    "print(\"95% Confidence interval: (\",lower_ci_boot,\", \" upper_ci_boot,\")\")\n",
    "\n",
    "import matplotlib.pyplot as plt\n",
    "plt.hist(corrs, bins=40)\n",
    "plt.axvline(x=obs_corr, color='r', linewidth=1.5)\n",
    "plt.show()"
   ]
  },
  {
   "cell_type": "markdown",
   "metadata": {},
   "source": [
    "Standard error increased because the dataset is of size 10 now and not 15. There is more variation in the resulting correlation coefficients as it provides less info. Also with the subset of the data, the analysis can have more outliers. "
   ]
  },
  {
   "cell_type": "markdown",
   "metadata": {},
   "source": [
    "## 2) Use Gray codes for compositions to speedup computations"
   ]
  },
  {
   "cell_type": "markdown",
   "metadata": {},
   "source": [
    "## 3)  How much speedup can you get by using Gray codes? Show either experimentally or theoretically."
   ]
  },
  {
   "cell_type": "markdown",
   "metadata": {},
   "source": [
    "## 4) Which observation(s) do you need to remove from the sample to make the Monte Carlo and complete enumeration bootstrap look more similar?"
   ]
  },
  {
   "cell_type": "markdown",
   "metadata": {},
   "source": [
    "Whole dataset"
   ]
  },
  {
   "cell_type": "code",
   "execution_count": 14,
   "metadata": {},
   "outputs": [
    {
     "data": {
      "text/html": [
       "<div>\n",
       "<style scoped>\n",
       "    .dataframe tbody tr th:only-of-type {\n",
       "        vertical-align: middle;\n",
       "    }\n",
       "\n",
       "    .dataframe tbody tr th {\n",
       "        vertical-align: top;\n",
       "    }\n",
       "\n",
       "    .dataframe thead th {\n",
       "        text-align: right;\n",
       "    }\n",
       "</style>\n",
       "<table border=\"1\" class=\"dataframe\">\n",
       "  <thead>\n",
       "    <tr style=\"text-align: right;\">\n",
       "      <th></th>\n",
       "      <th>LSAT</th>\n",
       "      <th>GPA</th>\n",
       "      <th>observation</th>\n",
       "    </tr>\n",
       "  </thead>\n",
       "  <tbody>\n",
       "    <tr>\n",
       "      <th>0</th>\n",
       "      <td>576</td>\n",
       "      <td>3.39</td>\n",
       "      <td>1</td>\n",
       "    </tr>\n",
       "  </tbody>\n",
       "</table>\n",
       "</div>"
      ],
      "text/plain": [
       "   LSAT   GPA  observation\n",
       "0   576  3.39            1"
      ]
     },
     "execution_count": 14,
     "metadata": {},
     "output_type": "execute_result"
    }
   ],
   "source": [
    "import statsmodels.api as sm\n",
    "\n",
    "# linear regression\n",
    "X = sm.add_constant(law['LSAT'])\n",
    "model = sm.OLS(law['GPA'], X).fit()\n",
    "\n",
    "# Cook's distance\n",
    "influence = model.get_influence()\n",
    "cd = influence.cooks_distance[0]\n",
    "\n",
    "threshold = 4/len(law)\n",
    "outliers = law[cd > threshold]\n",
    "outliers"
   ]
  },
  {
   "cell_type": "markdown",
   "metadata": {},
   "source": [
    "Sub-dataset"
   ]
  },
  {
   "cell_type": "code",
   "execution_count": 7,
   "metadata": {},
   "outputs": [
    {
     "data": {
      "text/html": [
       "<div>\n",
       "<style scoped>\n",
       "    .dataframe tbody tr th:only-of-type {\n",
       "        vertical-align: middle;\n",
       "    }\n",
       "\n",
       "    .dataframe tbody tr th {\n",
       "        vertical-align: top;\n",
       "    }\n",
       "\n",
       "    .dataframe thead th {\n",
       "        text-align: right;\n",
       "    }\n",
       "</style>\n",
       "<table border=\"1\" class=\"dataframe\">\n",
       "  <thead>\n",
       "    <tr style=\"text-align: right;\">\n",
       "      <th></th>\n",
       "      <th>LSAT</th>\n",
       "      <th>GPA</th>\n",
       "      <th>observation</th>\n",
       "    </tr>\n",
       "  </thead>\n",
       "  <tbody>\n",
       "    <tr>\n",
       "      <th>0</th>\n",
       "      <td>576</td>\n",
       "      <td>3.39</td>\n",
       "      <td>1</td>\n",
       "    </tr>\n",
       "    <tr>\n",
       "      <th>2</th>\n",
       "      <td>558</td>\n",
       "      <td>2.81</td>\n",
       "      <td>3</td>\n",
       "    </tr>\n",
       "  </tbody>\n",
       "</table>\n",
       "</div>"
      ],
      "text/plain": [
       "   LSAT   GPA  observation\n",
       "0   576  3.39            1\n",
       "2   558  2.81            3"
      ]
     },
     "execution_count": 7,
     "metadata": {},
     "output_type": "execute_result"
    }
   ],
   "source": [
    "import statsmodels.api as sm\n",
    "\n",
    "# linear regression\n",
    "X = sm.add_constant(new_law['LSAT'])\n",
    "model = sm.OLS(new_law['GPA'], X).fit()\n",
    "\n",
    "# Cook's distance\n",
    "influence = model.get_influence()\n",
    "cd = influence.cooks_distance[0]\n",
    "\n",
    "threshold = 4/len(new_law)\n",
    "outliers = new_law[cd > threshold]\n",
    "outliers"
   ]
  },
  {
   "cell_type": "markdown",
   "metadata": {},
   "source": [
    "## 5) Explain why you obtain difference results for Monte Carlo and complete enumeration bootstrap."
   ]
  },
  {
   "cell_type": "code",
   "execution_count": 21,
   "metadata": {},
   "outputs": [
    {
     "name": "stdout",
     "output_type": "stream",
     "text": [
      "Sample correlation coefficient: 0.8131032177037834\n",
      "Standard error: 0.1608659977984986\n",
      "95% confidence interval: (0.4903706802073814, 1.120953804251695)\n"
     ]
    },
    {
     "data": {
      "image/png": "[encoded data removed]",
      "text/plain": [
       "<Figure size 432x288 with 1 Axes>"
      ]
     },
     "metadata": {
      "needs_background": "light"
     },
     "output_type": "display_data"
    },
    {
     "name": "stdout",
     "output_type": "stream",
     "text": [
      "Wall time: 13.8 s\n"
     ]
    }
   ],
   "source": [
    "%%time\n",
    "import pandas as pd\n",
    "import numpy as np\n",
    "import scipy.stats as stats\n",
    "\n",
    "# Same dataset used as in the complete enumeration bootstrap\n",
    "law_ex5 = new_law\n",
    "\n",
    "# Monte Carlo bootstrap\n",
    "r_obs = np.corrcoef(law_ex5['LSAT'], law_ex5['GPA'])[0, 1]\n",
    "B = 10000\n",
    "\n",
    "r_mc = []\n",
    "for i in range(B):\n",
    "    idx = np.random.choice(law_ex5.index, size=len(law_ex5), replace=True)\n",
    "    r = np.corrcoef(law_ex5.loc[idx, 'LSAT'], law_ex5.loc[idx, 'GPA'])[0, 1]\n",
    "    r_mc.append(r)\n",
    "\n",
    "se_mc = np.std(r_mc, ddof=1)\n",
    "ci_mc = stats.norm.interval(0.95, loc=np.mean(r_mc), scale=se_mc)\n",
    "\n",
    "print('Sample correlation coefficient:', r_obs)\n",
    "print('Standard error:', se_mc)\n",
    "print('95% confidence interval:', ci_mc)\n",
    "\n",
    "import matplotlib.pyplot as plt\n",
    "plt.hist(r_mc, bins=40)\n",
    "plt.axvline(x=r_obs, color='r', linewidth=1.5)\n",
    "plt.show()"
   ]
  },
  {
   "cell_type": "markdown",
   "metadata": {},
   "source": [
    "As you can see the correlation coefficient is the same (because the same dataset was used), but the standard error is less (due to the randomness introduced) AND it needs less time. The confidence intervals overlap, but the one from the Monte Carlo bootstrap is narrower, as it is preciser (like the smaller standard error indicates)."
   ]
  },
  {
   "cell_type": "markdown",
   "metadata": {},
   "source": [
    "### Run Monte Carlo and complete enumeration again without the outliers"
   ]
  },
  {
   "cell_type": "code",
   "execution_count": 20,
   "metadata": {},
   "outputs": [
    {
     "name": "stdout",
     "output_type": "stream",
     "text": [
      "Sample correlation coefficient: 0.9687677934532071\n",
      "Standard error: 0.024026282908571932\n",
      "95% confidence interval: (0.9272890062644863, 1.0214703046308289)\n"
     ]
    },
    {
     "data": {
      "image/png": "[encoded data removed]",
      "text/plain": [
       "<Figure size 432x288 with 1 Axes>"
      ]
     },
     "metadata": {
      "needs_background": "light"
     },
     "output_type": "display_data"
    },
    {
     "name": "stdout",
     "output_type": "stream",
     "text": [
      "Wall time: 16.2 s\n"
     ]
    }
   ],
   "source": [
    "%%time\n",
    "import pandas as pd\n",
    "import numpy as np\n",
    "import scipy.stats as stats\n",
    "\n",
    "# Same dataset used as in the complete enumeration bootstrap\n",
    "law_ex5 = new_law.drop(outliers.index, axis=0)\n",
    "\n",
    "# Monte Carlo bootstrap\n",
    "r_obs = np.corrcoef(law_ex5['LSAT'], law_ex5['GPA'])[0, 1]\n",
    "B = 10000\n",
    "\n",
    "r_mc = []\n",
    "for i in range(B):\n",
    "    idx = np.random.choice(law_ex5.index, size=len(law_ex5), replace=True)\n",
    "    r = np.corrcoef(law_ex5.loc[idx, 'LSAT'], law_ex5.loc[idx, 'GPA'])[0, 1]\n",
    "    r_mc.append(r)\n",
    "\n",
    "se_mc = np.std(r_mc, ddof=1)\n",
    "ci_mc = stats.norm.interval(0.95, loc=np.mean(r_mc), scale=se_mc)\n",
    "\n",
    "print('Sample correlation coefficient:', r_obs)\n",
    "print('Standard error:', se_mc)\n",
    "print('95% confidence interval:', ci_mc)\n",
    "\n",
    "import matplotlib.pyplot as plt\n",
    "plt.hist(r_mc, bins=40)\n",
    "plt.axvline(x=r_obs, color='r', linewidth=1.5)\n",
    "plt.show()"
   ]
  },
  {
   "cell_type": "code",
   "execution_count": 19,
   "metadata": {},
   "outputs": [
    {
     "name": "stdout",
     "output_type": "stream",
     "text": [
      "24310\n",
      "24310\n",
      "24301\n",
      "Observed correlation coefficient: 0.969\n",
      "Bootstrap standard error: 0.055\n",
      "95% Confidence interval: (0.890, 1.000)\n"
     ]
    },
    {
     "data": {
      "image/png": "[encoded data removed]",
      "text/plain": [
       "<Figure size 432x288 with 1 Axes>"
      ]
     },
     "metadata": {
      "needs_background": "light"
     },
     "output_type": "display_data"
    },
    {
     "name": "stdout",
     "output_type": "stream",
     "text": [
      "Wall time: 18.2 s\n"
     ]
    }
   ],
   "source": [
    "%%time\n",
    "\n",
    "# All possible combinations\n",
    "combs = combinations_with_replacement(range(len(law_ex5)), len(law_ex5))\n",
    "\n",
    "samples = []\n",
    "for comb in combs:\n",
    "    bootstrap_sample = law_ex5.iloc[list(comb), :]\n",
    "    samples.append(bootstrap_sample)\n",
    "\n",
    "print(len(samples))\n",
    "\n",
    "# Compute the Pearson correlation between LSAT and GPA for each bootstrap sample\n",
    "corrs = [sample['LSAT'].corr(sample['GPA']) for sample in samples]\n",
    "print(len(corrs))\n",
    "\n",
    "obs_corr = law_ex5['LSAT'].corr(law_ex5['GPA'])\n",
    "\n",
    "# Filter out NaN correlation coefficients since it is a smaller dataset and there may \n",
    "# have been fewer valid pairs of LSAT and GPA scores that could be used to calculate \n",
    "# the correlation coefficient, resulting in more NaN values\n",
    "corrs = [corr for corr in corrs if not np.isnan(corr)]\n",
    "print(len(corrs))\n",
    "\n",
    "# Same code\n",
    "se_boot = np.std(corrs)\n",
    "lower_ci_boot = np.percentile(corrs, 2.5)\n",
    "upper_ci_boot = np.percentile(corrs, 97.5)\n",
    "\n",
    "print(\"Observed correlation coefficient: \",obs_corr)\n",
    "print(\"Bootstrap standard error: \",se_boot)\n",
    "print(\"95% Confidence interval: (\",lower_ci_boot,\", \" upper_ci_boot,\")\")\n",
    "\n",
    "import matplotlib.pyplot as plt\n",
    "plt.hist(corrs, bins=40)\n",
    "plt.axvline(x=obs_corr, color='r', linewidth=1.5)\n",
    "plt.show()"
   ]
  },
  {
   "cell_type": "markdown",
   "metadata": {},
   "source": [
    "Correlation increased and standard error decreased"
   ]
  },
  {
   "cell_type": "code",
   "execution_count": null,
   "metadata": {},
   "outputs": [],
   "source": []
  }
 ],
 "metadata": {
  "kernelspec": {
   "display_name": "Python 3 (ipykernel)",
   "language": "python",
   "name": "python3"
  },
  "language_info": {
   "codemirror_mode": {
    "name": "ipython",
    "version": 3
   },
   "file_extension": ".py",
   "mimetype": "text/x-python",
   "name": "python",
   "nbconvert_exporter": "python",
   "pygments_lexer": "ipython3",
   "version": "3.9.7"
  }
 },
 "nbformat": 4,
 "nbformat_minor": 2
}
